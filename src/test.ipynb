{
 "cells": [
  {
   "cell_type": "code",
   "execution_count": 2,
   "metadata": {},
   "outputs": [],
   "source": [
    "freq = 0\n",
    "words = dict()\n",
    "with open('words.txt', 'r') as file:\n",
    "    for line in file:\n",
    "        words[line.strip()] = freq\n",
    "        freq += 1"
   ]
  },
  {
   "cell_type": "code",
   "execution_count": 3,
   "metadata": {},
   "outputs": [],
   "source": [
    "passages = []\n",
    "current_passage = None\n",
    "skip_next = False\n",
    "\n",
    "with open('passages.txt', 'r') as file:\n",
    "    for line in file:\n",
    "        line = line.strip()\n",
    "        \n",
    "\n",
    "        if not line:\n",
    "            continue\n",
    "            \n",
    "\n",
    "        if skip_next:\n",
    "            skip_next = False\n",
    "            continue\n",
    "            \n",
    "\n",
    "        if line and line[0].isdigit() and '. ' in line:\n",
    "\n",
    "            passage_text = line[line.index('. ') + 2:]\n",
    "            passages.append(passage_text)\n",
    "            skip_next = True\n",
    "            \n"
   ]
  },
  {
   "cell_type": "code",
   "execution_count": 29,
   "metadata": {},
   "outputs": [
    {
     "name": "stdout",
     "output_type": "stream",
     "text": [
      "[['melted', 'glaciers', 'wound', 'formed', 'mississippi', 'powerful', 'minnesota', 'became'], ['caves', 'sandstone', 'chomped', 'softened', 'hard-packed', 'compressed', 'sand', 'formed'], ['caves', 'dripping', 'sandstone', 'cannot', 'breathe', 'limestone', 'spots', 'holes'], ['caves', 'sandstone', 'cliffs', 'caves’', 'carving', 'digging', 'packed', 'popularity'], ['caves', 'lyman', 'sandstone', 'usefulness', 'dayton', 'wanted', 'late', 'though'], ['frenchmen', 'caves', 'sandstone', 'carved', 'crumbled', 'shovel', 'dayton', 'stood'], ['frenchmen', 'caves', 'tasty', 'manure', 'mushrooms', 'trio', 'cave', 'crop'], ['frenchmen', 'caves', '“castle', 'royal”', 'mushrooms', 'delicious', 'suddenly', 'opened'], ['sang', 'cave', 'musicians', 'makers', 'cheese', 'castle', 'loved', 'mostly'], ['minnesota’s', 'caves', 'settlers', 'dreamed', 'paul’s', 'cave', 'cheese', 'factory'], ['tallest', 'taller', 'skyscrapers', 'elevators', 'skyscraper', 'architects', 'clouds', 'destroyed'], ['wasn’t', 'tallest', 'skyscrapers', 'petronas', 'towers', 'malaysia', 'empire', 'buildings'], ['bricks', 'skyscraper', 'beams', 'collapse', 'tall', 'columns', 'sitting', 'concrete'], ['skeleton', 'holds', 'frame', 'building', 'just', 'like', 'up', 'your'], ['bolted', 'hammered', 'skyscraper', 'pilings', 'floors', 'roots', 'columns', 'solid'], ['cranes', 'wrestle', 'collapsing', 'earthquakes', 'ironworkers', 'skyscraper', 'beams', 'shake'], ['fir', 'bolts', 'ironworkers', 'tighten', 'curtains', 'weld', 'climbers', 'floors'], ['decorate', 'wires', 'pipes', 'paint', 'install', 'rooms', 'they', 'and'], ['whisk', 'triple-decker', 'skyscrapers', 'elevators', 'don’t', 'shadows', 'architects', 'floors'], ['climbed', 'lakesha', 'silence', 'breath', 'singing', 'caught', 'sam', 'bedroom'], ['practicing', 'lakesha', 'loud', 'admit', 'singing', 'sam', 'mom', 'musical'], ['smiled', 'earplugs', 'chuckled', 'farther', 'amazingly', 'sounded', 'drawer', 'lakesha'], ['lively', 'laughed', 'wore', 'lakesha', 'jumping', 'performer', 'gathered', 'sing'], ['paints', 'quietly', 'see—he', 'pastels', 'pencils', 'colored', 'pad', 'sitting'], ['trunks', 'maria’s', 'thicker', 'farther', 'paintbrush', 'borrowed', 'graders', 'breath'], ['smiling', 'ramos', 'embarrassment', 'strokes', 'clap', 'swift', 'surprised', 'canvas'], ['imagined', 'yearned', 'ugly', 'karen', 'waters', 'dirty', 'sand', 'narrow'], ['sliced', 'swirled', 'loomed', 'chilly', 'shaggy', 'peanuts', 'crushed', 'seaweed'], ['bedtime', 'upward', 'seagull', 'sounded', 'swoosh', 'waves', 'realized', 'cry'], ['earthy', 'crinkly', 'unattractive', 'seaweed', 'crisp', 'salty', 'rotting', 'smell'], ['patel', 'classmates', 'unsure', 'seaweed', 'bent', 'blanket', 'wrapped', 'arrange'], ['clump', 'pooled', 'shallow', 'seaweed', 'pale', 'noticed', 'reached', 'hole'], ['clump', 'seahorse', 'patel', 'shouted', 'seaweed', 'gasped', 'wrapped', 'floating'], ['smiled', 'clinging', 'half-smile', 'enchanted', 'ragged', 'stared', 'seaweed', 'marveled'], ['seahorse', 'patel', 'scooted', 'delighted', 'submarine', 'rolled', 'laugh', 'waves'], ['mussels', 'rov’s', 'shellfish', 'muddy', 'headlights', 'rov', 'remotely', 'beside'], ['lake’s', 'ripples', 'seafloor', 'rov', 'spreading', 'reaches', 'sends', 'probe'], ['seafloor', 'shoreline', 'salty', 'lakes', 'wave', 'sizes', 'ocean', 'bottom'], ['leaks', 'super-salty', 'dissolves', 'layers', 'lie', 'lakes', 'salt', 'ocean'], ['heavier', 'gathers', 'super-salty', 'saltier', 'dense', 'pools', 'lakes', 'salt'], ['barren', 'seafloor', 'pitch-black', 'sunlight', 'lakes', 'desert', 'grow', 'eat'], ['divers', 'underwater', 'submarines', 'traveled', 'brine', 'oasis', 'habitat', 'unable'], ['mussels', 'lifeless', 'worms', 'seafloor', 'vents', 'crabs', 'shrimp', 'methane'], ['confidently', 'campsite', 'stephan', 'scary', 'wanting', 'assure', 'hoping', 'silence'], ['flattened', 'pots', 'marshmallows', 'grabbed', 'skateboards', 'toppings', 'stuffed', 'loaded']]\n"
     ]
    }
   ],
   "source": [
    "chosen_words = []\n",
    "\n",
    "for passage in passages:\n",
    "    word_value_paired = set()\n",
    "    for word in passage.lower().split():\n",
    "        cleaned_word = word.strip('.,!?:;()[]{}\"\\'-1234567890')\n",
    "\n",
    "        if not cleaned_word:\n",
    "            continue\n",
    "        if cleaned_word in words:\n",
    "            word_value_paired.add((cleaned_word, words[cleaned_word]))\n",
    "        else:\n",
    "            word_value_paired.add((cleaned_word, 10000))\n",
    "    word_value_paired = list(word_value_paired)\n",
    "    word_value_paired.sort(key=lambda x: x[1], reverse=True)\n",
    "    chosen_words.append([word_value_paired[x][0] for x in range(8)])\n",
    "print(chosen_words)"
   ]
  },
  {
   "cell_type": "code",
   "execution_count": 5,
   "metadata": {},
   "outputs": [],
   "source": [
    "from collections import Counter\n",
    "import re"
   ]
  },
  {
   "cell_type": "code",
   "execution_count": 14,
   "metadata": {},
   "outputs": [],
   "source": [
    "def count_word_frequencies(passages):\n",
    "    \"\"\"\n",
    "    Count the frequency of each word across all passages.\n",
    "    \n",
    "    Args:\n",
    "        passages (list): List of passage strings\n",
    "        \n",
    "    Returns:\n",
    "        dict: Dictionary with words as keys and their frequencies as values\n",
    "    \"\"\"\n",
    "    # Join all passages into a single string\n",
    "    all_text = ' '.join(passages)\n",
    "    \n",
    "    # Convert to lowercase and split into words\n",
    "    # Use regex to remove punctuation and keep only alphanumeric words\n",
    "    words = re.findall(r'\\b[a-zA-Z0-9]+\\b', all_text.lower())\n",
    "    \n",
    "    # Count frequencies using Counter\n",
    "    word_frequencies = Counter(words)\n",
    "    \n",
    "    # Convert Counter to regular dictionary if needed\n",
    "    return dict(word_frequencies)"
   ]
  },
  {
   "cell_type": "code",
   "execution_count": 15,
   "metadata": {},
   "outputs": [],
   "source": [
    "passage_word_freq = count_word_frequencies(passages)"
   ]
  },
  {
   "cell_type": "code",
   "execution_count": 16,
   "metadata": {},
   "outputs": [
    {
     "data": {
      "text/plain": [
       "3"
      ]
     },
     "execution_count": 16,
     "metadata": {},
     "output_type": "execute_result"
    }
   ],
   "source": [
    "passage_word_freq['minnesota']"
   ]
  },
  {
   "cell_type": "code",
   "execution_count": 30,
   "metadata": {},
   "outputs": [],
   "source": [
    "\n",
    "final_words = []\n",
    "passage_num = 0\n",
    "for chosen in chosen_words:\n",
    "    word_value_paired = set()\n",
    "    for word in chosen:\n",
    "        cleaned_word = word.strip('.,!?:;()[]{}\"\\'-1234567890')\n",
    "\n",
    "        if not cleaned_word:\n",
    "            continue\n",
    "        passage_here = [passages[i] for i in range(len(passages)) if i != passage_num]\n",
    "        passage_word_freq = count_word_frequencies(passage_here)\n",
    "        if cleaned_word in passage_word_freq:\n",
    "            word_value_paired.add((cleaned_word, passage_word_freq[cleaned_word]))\n",
    "    word_value_paired = list(word_value_paired)\n",
    "    word_value_paired.sort(key=lambda x: x[1])\n",
    "    final_words.append([word_value_paired[x][0] for x in range(5)])"
   ]
  },
  {
   "cell_type": "code",
   "execution_count": 31,
   "metadata": {},
   "outputs": [
    {
     "data": {
      "text/plain": [
       "[['formed', 'mississippi', 'powerful', 'became', 'minnesota'],\n",
       " ['formed', 'chomped', 'softened', 'compressed', 'sand'],\n",
       " ['breathe', 'dripping', 'spots', 'cannot', 'limestone'],\n",
       " ['popularity', 'cliffs', 'carving', 'digging', 'packed'],\n",
       " ['usefulness', 'wanted', 'late', 'lyman', 'though'],\n",
       " ['crumbled', 'carved', 'shovel', 'stood', 'frenchmen'],\n",
       " ['trio', 'tasty', 'crop', 'mushrooms', 'manure'],\n",
       " ['delicious', 'suddenly', 'mushrooms', 'opened', 'frenchmen'],\n",
       " ['makers', 'musicians', 'mostly', 'sang', 'castle'],\n",
       " ['settlers', 'factory', 'dreamed', 'cheese', 'cave'],\n",
       " ['taller', 'destroyed', 'tallest', 'architects', 'elevators'],\n",
       " ['towers', 'malaysia', 'empire', 'petronas', 'tallest'],\n",
       " ['concrete', 'bricks', 'collapse', 'columns', 'tall'],\n",
       " ['skeleton', 'holds', 'frame', 'your', 'building'],\n",
       " ['hammered', 'bolted', 'solid', 'roots', 'pilings'],\n",
       " ['wrestle', 'collapsing', 'shake', 'cranes', 'earthquakes'],\n",
       " ['fir', 'weld', 'bolts', 'tighten', 'curtains'],\n",
       " ['pipes', 'rooms', 'install', 'decorate', 'wires'],\n",
       " ['whisk', 'shadows', 'architects', 'elevators', 'floors'],\n",
       " ['caught', 'bedroom', 'climbed', 'silence', 'breath'],\n",
       " ['musical', 'loud', 'admit', 'practicing', 'mom'],\n",
       " ['chuckled', 'amazingly', 'earplugs', 'sounded', 'drawer'],\n",
       " ['laughed', 'wore', 'performer', 'jumping', 'gathered'],\n",
       " ['quietly', 'colored', 'paints', 'pad', 'pencils'],\n",
       " ['paintbrush', 'thicker', 'graders', 'borrowed', 'trunks'],\n",
       " ['surprised', 'ramos', 'strokes', 'clap', 'swift'],\n",
       " ['dirty', 'ugly', 'yearned', 'waters', 'narrow'],\n",
       " ['swirled', 'sliced', 'loomed', 'chilly', 'crushed'],\n",
       " ['upward', 'seagull', 'swoosh', 'realized', 'cry'],\n",
       " ['unattractive', 'crinkly', 'rotting', 'crisp', 'earthy'],\n",
       " ['unsure', 'bent', 'blanket', 'classmates', 'arrange'],\n",
       " ['noticed', 'pale', 'pooled', 'shallow', 'hole'],\n",
       " ['shouted', 'gasped', 'floating', 'clump', 'wrapped'],\n",
       " ['clinging', 'stared', 'marveled', 'enchanted', 'ragged'],\n",
       " ['delighted', 'submarine', 'rolled', 'scooted', 'laugh'],\n",
       " ['beside', 'shellfish', 'muddy', 'headlights', 'remotely'],\n",
       " ['sends', 'ripples', 'reaches', 'probe', 'spreading'],\n",
       " ['wave', 'sizes', 'shoreline', 'bottom', 'salty'],\n",
       " ['layers', 'leaks', 'lie', 'dissolves', 'salt'],\n",
       " ['pools', 'saltier', 'gathers', 'heavier', 'dense'],\n",
       " ['sunlight', 'desert', 'eat', 'barren', 'grow'],\n",
       " ['habitat', 'oasis', 'divers', 'unable', 'submarines'],\n",
       " ['worms', 'methane', 'vents', 'crabs', 'lifeless'],\n",
       " ['scary', 'campsite', 'wanting', 'stephan', 'confidently'],\n",
       " ['grabbed', 'pots', 'loaded', 'marshmallows', 'stuffed']]"
      ]
     },
     "execution_count": 31,
     "metadata": {},
     "output_type": "execute_result"
    }
   ],
   "source": [
    "final_words"
   ]
  },
  {
   "cell_type": "code",
   "execution_count": 27,
   "metadata": {},
   "outputs": [],
   "source": [
    "final_dict = dict()\n",
    "for i in range(len(final_words)):\n",
    "    final_dict[f'{i+1}'] = final_words[i]"
   ]
  },
  {
   "cell_type": "code",
   "execution_count": 28,
   "metadata": {},
   "outputs": [],
   "source": [
    "import json\n",
    "with open('words.json','w') as json_file:\n",
    "    json.dump(final_dict, json_file)"
   ]
  },
  {
   "cell_type": "code",
   "execution_count": null,
   "metadata": {},
   "outputs": [],
   "source": []
  }
 ],
 "metadata": {
  "kernelspec": {
   "display_name": "tele_statistics",
   "language": "python",
   "name": "python3"
  },
  "language_info": {
   "codemirror_mode": {
    "name": "ipython",
    "version": 3
   },
   "file_extension": ".py",
   "mimetype": "text/x-python",
   "name": "python",
   "nbconvert_exporter": "python",
   "pygments_lexer": "ipython3",
   "version": "3.8.19"
  },
  "orig_nbformat": 4,
  "vscode": {
   "interpreter": {
    "hash": "84a6233198c34f03b3c386cf553600c9fdf7deb3e657306515660cd49e365240"
   }
  }
 },
 "nbformat": 4,
 "nbformat_minor": 2
}
